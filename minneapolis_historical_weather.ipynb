{
 "metadata": {
  "language_info": {
   "codemirror_mode": {
    "name": "ipython",
    "version": 3
   },
   "file_extension": ".py",
   "mimetype": "text/x-python",
   "name": "python",
   "nbconvert_exporter": "python",
   "pygments_lexer": "ipython3",
   "version": "3.8.3-final"
  },
  "orig_nbformat": 2,
  "kernelspec": {
   "name": "python3",
   "display_name": "Python 3"
  }
 },
 "nbformat": 4,
 "nbformat_minor": 2,
 "cells": [
  {
   "cell_type": "code",
   "execution_count": null,
   "metadata": {},
   "outputs": [],
   "source": [
    "import pandas as pd\n",
    "import numpy as np\n",
    "import matplotlib.pyplot as plt"
   ]
  },
  {
   "cell_type": "code",
   "execution_count": null,
   "metadata": {},
   "outputs": [],
   "source": [
    "# load and append files\n",
    "weather = pd.read_csv('1910-1938.csv')\n",
    "weather2 = pd.read_csv('1946-2020.csv')\n",
    "combo=weather.append(weather2)"
   ]
  },
  {
   "cell_type": "code",
   "execution_count": null,
   "metadata": {},
   "outputs": [],
   "source": [
    "# check data\n",
    "combo.sample(5)"
   ]
  },
  {
   "cell_type": "code",
   "execution_count": null,
   "metadata": {},
   "outputs": [],
   "source": [
    "# quick sumstats\n",
    "combo.describe()"
   ]
  },
  {
   "cell_type": "code",
   "execution_count": null,
   "metadata": {},
   "outputs": [],
   "source": [
    "# create datetime\n",
    "# Convert dates to datetime\n",
    "combo['datetime'] = pd.to_datetime(combo['DATE'])\n",
    "# extract date componants\n",
    "\n",
    "combo['day'] = combo['datetime'].map(lambda x: x.day)\n",
    "combo['month'] = combo['datetime'].map(lambda x: x.month)\n",
    "combo['year'] = combo['datetime'].map(lambda x: x.year)\n",
    "combo"
   ]
  },
  {
   "cell_type": "code",
   "execution_count": null,
   "metadata": {},
   "outputs": [],
   "source": [
    "jan = combo[combo['month']==4]\n",
    "jan"
   ]
  },
  {
   "cell_type": "code",
   "execution_count": null,
   "metadata": {},
   "outputs": [],
   "source": [
    "rando = jan['TMIN'].sample(100)\n",
    "rando"
   ]
  },
  {
   "cell_type": "code",
   "execution_count": null,
   "metadata": {},
   "outputs": [],
   "source": [
    "rando.plot()"
   ]
  },
  {
   "cell_type": "code",
   "execution_count": null,
   "metadata": {},
   "outputs": [],
   "source": [
    "# check for nan\n",
    "combo['TMIN'].tolist()"
   ]
  },
  {
   "cell_type": "code",
   "execution_count": null,
   "metadata": {},
   "outputs": [],
   "source": [
    " combo['TMIN'].isnull().sum()"
   ]
  },
  {
   "cell_type": "code",
   "execution_count": 18,
   "metadata": {},
   "outputs": [
    {
     "output_type": "execute_result",
     "data": {
      "text/plain": [
       "           STATION                                               NAME  \\\n",
       "5709   USW00014922  MINNEAPOLIS ST. PAUL INTERNATIONAL AIRPORT, MN US   \n",
       "29085  USW00014922  MINNEAPOLIS ST. PAUL INTERNATIONAL AIRPORT, MN US   \n",
       "230    USW00014922  MINNEAPOLIS ST. PAUL INTERNATIONAL AIRPORT, MN US   \n",
       "9735   USC00215433         MINNEAPOLIS WEATHER BUREAU DOWNTOWN, MN US   \n",
       "3160   USC00215433         MINNEAPOLIS WEATHER BUREAU DOWNTOWN, MN US   \n",
       "15936  USW00014922  MINNEAPOLIS ST. PAUL INTERNATIONAL AIRPORT, MN US   \n",
       "29815  USW00014922  MINNEAPOLIS ST. PAUL INTERNATIONAL AIRPORT, MN US   \n",
       "13744  USW00014922  MINNEAPOLIS ST. PAUL INTERNATIONAL AIRPORT, MN US   \n",
       "14840  USW00014922  MINNEAPOLIS ST. PAUL INTERNATIONAL AIRPORT, MN US   \n",
       "13014  USW00014922  MINNEAPOLIS ST. PAUL INTERNATIONAL AIRPORT, MN US   \n",
       "\n",
       "             DATE  PRCP  SNOW  SNWD  TMAX  TMIN   datetime  day  month  year  \n",
       "5709   11/25/1953   NaN   0.1   NaN    32  24.0 1953-11-25   25     11  1953  \n",
       "29085  11/25/2017   NaN   0.0   NaN    41  29.0 2017-11-25   25     11  2017  \n",
       "230    11/25/1938   NaN   0.4   NaN    29  12.0 1938-11-25   25     11  1938  \n",
       "9735   11/25/1936  0.08   0.0   0.0    21  11.0 1936-11-25   25     11  1936  \n",
       "3160   11/25/1918  0.00   0.0   0.0    34  23.0 1918-11-25   25     11  1918  \n",
       "15936  11/25/1981   NaN   0.0   NaN    37  31.0 1981-11-25   25     11  1981  \n",
       "29815  11/25/2019   NaN   0.0   NaN    45  37.0 2019-11-25   25     11  2019  \n",
       "13744  11/25/1975   NaN   0.0   NaN    21   7.0 1975-11-25   25     11  1975  \n",
       "14840  11/25/1978   NaN   0.0   NaN    36   9.0 1978-11-25   25     11  1978  \n",
       "13014  11/25/1973   NaN   0.0   NaN    39  35.0 1973-11-25   25     11  1973  "
      ],
      "text/html": "<div>\n<style scoped>\n    .dataframe tbody tr th:only-of-type {\n        vertical-align: middle;\n    }\n\n    .dataframe tbody tr th {\n        vertical-align: top;\n    }\n\n    .dataframe thead th {\n        text-align: right;\n    }\n</style>\n<table border=\"1\" class=\"dataframe\">\n  <thead>\n    <tr style=\"text-align: right;\">\n      <th></th>\n      <th>STATION</th>\n      <th>NAME</th>\n      <th>DATE</th>\n      <th>PRCP</th>\n      <th>SNOW</th>\n      <th>SNWD</th>\n      <th>TMAX</th>\n      <th>TMIN</th>\n      <th>datetime</th>\n      <th>day</th>\n      <th>month</th>\n      <th>year</th>\n    </tr>\n  </thead>\n  <tbody>\n    <tr>\n      <th>5709</th>\n      <td>USW00014922</td>\n      <td>MINNEAPOLIS ST. PAUL INTERNATIONAL AIRPORT, MN US</td>\n      <td>11/25/1953</td>\n      <td>NaN</td>\n      <td>0.1</td>\n      <td>NaN</td>\n      <td>32</td>\n      <td>24.0</td>\n      <td>1953-11-25</td>\n      <td>25</td>\n      <td>11</td>\n      <td>1953</td>\n    </tr>\n    <tr>\n      <th>29085</th>\n      <td>USW00014922</td>\n      <td>MINNEAPOLIS ST. PAUL INTERNATIONAL AIRPORT, MN US</td>\n      <td>11/25/2017</td>\n      <td>NaN</td>\n      <td>0.0</td>\n      <td>NaN</td>\n      <td>41</td>\n      <td>29.0</td>\n      <td>2017-11-25</td>\n      <td>25</td>\n      <td>11</td>\n      <td>2017</td>\n    </tr>\n    <tr>\n      <th>230</th>\n      <td>USW00014922</td>\n      <td>MINNEAPOLIS ST. PAUL INTERNATIONAL AIRPORT, MN US</td>\n      <td>11/25/1938</td>\n      <td>NaN</td>\n      <td>0.4</td>\n      <td>NaN</td>\n      <td>29</td>\n      <td>12.0</td>\n      <td>1938-11-25</td>\n      <td>25</td>\n      <td>11</td>\n      <td>1938</td>\n    </tr>\n    <tr>\n      <th>9735</th>\n      <td>USC00215433</td>\n      <td>MINNEAPOLIS WEATHER BUREAU DOWNTOWN, MN US</td>\n      <td>11/25/1936</td>\n      <td>0.08</td>\n      <td>0.0</td>\n      <td>0.0</td>\n      <td>21</td>\n      <td>11.0</td>\n      <td>1936-11-25</td>\n      <td>25</td>\n      <td>11</td>\n      <td>1936</td>\n    </tr>\n    <tr>\n      <th>3160</th>\n      <td>USC00215433</td>\n      <td>MINNEAPOLIS WEATHER BUREAU DOWNTOWN, MN US</td>\n      <td>11/25/1918</td>\n      <td>0.00</td>\n      <td>0.0</td>\n      <td>0.0</td>\n      <td>34</td>\n      <td>23.0</td>\n      <td>1918-11-25</td>\n      <td>25</td>\n      <td>11</td>\n      <td>1918</td>\n    </tr>\n    <tr>\n      <th>15936</th>\n      <td>USW00014922</td>\n      <td>MINNEAPOLIS ST. PAUL INTERNATIONAL AIRPORT, MN US</td>\n      <td>11/25/1981</td>\n      <td>NaN</td>\n      <td>0.0</td>\n      <td>NaN</td>\n      <td>37</td>\n      <td>31.0</td>\n      <td>1981-11-25</td>\n      <td>25</td>\n      <td>11</td>\n      <td>1981</td>\n    </tr>\n    <tr>\n      <th>29815</th>\n      <td>USW00014922</td>\n      <td>MINNEAPOLIS ST. PAUL INTERNATIONAL AIRPORT, MN US</td>\n      <td>11/25/2019</td>\n      <td>NaN</td>\n      <td>0.0</td>\n      <td>NaN</td>\n      <td>45</td>\n      <td>37.0</td>\n      <td>2019-11-25</td>\n      <td>25</td>\n      <td>11</td>\n      <td>2019</td>\n    </tr>\n    <tr>\n      <th>13744</th>\n      <td>USW00014922</td>\n      <td>MINNEAPOLIS ST. PAUL INTERNATIONAL AIRPORT, MN US</td>\n      <td>11/25/1975</td>\n      <td>NaN</td>\n      <td>0.0</td>\n      <td>NaN</td>\n      <td>21</td>\n      <td>7.0</td>\n      <td>1975-11-25</td>\n      <td>25</td>\n      <td>11</td>\n      <td>1975</td>\n    </tr>\n    <tr>\n      <th>14840</th>\n      <td>USW00014922</td>\n      <td>MINNEAPOLIS ST. PAUL INTERNATIONAL AIRPORT, MN US</td>\n      <td>11/25/1978</td>\n      <td>NaN</td>\n      <td>0.0</td>\n      <td>NaN</td>\n      <td>36</td>\n      <td>9.0</td>\n      <td>1978-11-25</td>\n      <td>25</td>\n      <td>11</td>\n      <td>1978</td>\n    </tr>\n    <tr>\n      <th>13014</th>\n      <td>USW00014922</td>\n      <td>MINNEAPOLIS ST. PAUL INTERNATIONAL AIRPORT, MN US</td>\n      <td>11/25/1973</td>\n      <td>NaN</td>\n      <td>0.0</td>\n      <td>NaN</td>\n      <td>39</td>\n      <td>35.0</td>\n      <td>1973-11-25</td>\n      <td>25</td>\n      <td>11</td>\n      <td>1973</td>\n    </tr>\n  </tbody>\n</table>\n</div>"
     },
     "metadata": {},
     "execution_count": 18
    }
   ],
   "source": [
    "# bday weather for cal\n",
    "nov_25 = combo[(combo['day']==25) & (combo['month']==11)]\n",
    "nov_25.sample(10)"
   ]
  },
  {
   "cell_type": "code",
   "execution_count": null,
   "metadata": {},
   "outputs": [],
   "source": [
    "# try out numpy\n",
    "highs = combo['TMAX'].to_numpy()\n",
    "lows = combo['TMIN'].to_numpy()"
   ]
  },
  {
   "cell_type": "code",
   "execution_count": null,
   "metadata": {},
   "outputs": [],
   "source": [
    "#print max tempature\n",
    "print(\"max temp\", np.max(highs))"
   ]
  },
  {
   "cell_type": "code",
   "execution_count": null,
   "metadata": {},
   "outputs": [],
   "source": [
    "lows"
   ]
  },
  {
   "cell_type": "code",
   "execution_count": null,
   "metadata": {},
   "outputs": [],
   "source": [
    "# remove nan value\n",
    "lows = lows[np.logical_not(np.isnan(lows))]\n",
    "lows"
   ]
  },
  {
   "cell_type": "code",
   "execution_count": null,
   "metadata": {},
   "outputs": [],
   "source": []
  },
  {
   "cell_type": "code",
   "execution_count": null,
   "metadata": {},
   "outputs": [],
   "source": [
    "#low tempature\n",
    "print(\"min tempature\", np.min(lows))"
   ]
  },
  {
   "cell_type": "code",
   "execution_count": null,
   "metadata": {},
   "outputs": [],
   "source": [
    "col_mean = np.nanmean(lows, axis=0)\n",
    "print(col_mean)"
   ]
  },
  {
   "cell_type": "code",
   "execution_count": null,
   "metadata": {},
   "outputs": [],
   "source": [
    "print(\"minimum temp\", np.min(lows))"
   ]
  },
  {
   "cell_type": "code",
   "execution_count": null,
   "metadata": {},
   "outputs": [],
   "source": [
    "plt.plot(lows)"
   ]
  },
  {
   "cell_type": "code",
   "execution_count": null,
   "metadata": {},
   "outputs": [],
   "source": [
    "np.isnan(lows)\n",
    "\n",
    "np.sum(lows)"
   ]
  },
  {
   "cell_type": "code",
   "execution_count": null,
   "metadata": {},
   "outputs": [],
   "source": [
    "weather['SNWD'].plot()"
   ]
  },
  {
   "cell_type": "code",
   "execution_count": null,
   "metadata": {},
   "outputs": [],
   "source": [
    "weather['SNOW'].max()"
   ]
  },
  {
   "cell_type": "code",
   "execution_count": null,
   "metadata": {},
   "outputs": [],
   "source": []
  }
 ]
}